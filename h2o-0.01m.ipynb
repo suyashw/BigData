{
 "cells": [
  {
   "cell_type": "code",
   "execution_count": 1,
   "metadata": {
    "cell_status": {
     "execute_time": {
      "duration": 18.093017578125,
      "end_time": 1574548578004.23
     }
    }
   },
   "outputs": [
    {
     "data": {
      "text/html": [
       "Current session configs: <tt>{u'numExecutors': 6, u'executorMemory': u'21G', u'kind': 'pyspark', u'conf': {u'spark.scheduler.minRegisteredResourcesRatio': u'1', u'spark.task.maxFailures': u'1', u'spark.yarn.am.extraJavaOption': u'-XX:MaxPermSize=384m', u'maximizeResourceAllocation': u'true', u'spark.yarn.max.executor.failures': u'1', u'spark.jars': u'/H2O-Sparkling-Water-files/sparkling-water-assembly-all.jar', u'spark.ext.h2o.announce.rest.url': u'http://ed10-mareks.qxyas5oni4vulmjdyxf3kkjrlb.ax.internal.cloudapp.net:5000/flows', u'spark.submit.pyFiles': u'/H2O-Sparkling-Water-files/pySparkling.zip', u'spark.locality.wait': u'3000'}, u'driverMemory': u'21G'}</tt><br>"
      ],
      "text/plain": [
       "<IPython.core.display.HTML object>"
      ]
     },
     "metadata": {},
     "output_type": "display_data"
    },
    {
     "data": {
      "text/html": [
       "No active sessions."
      ],
      "text/plain": [
       "<IPython.core.display.HTML object>"
      ]
     },
     "metadata": {},
     "output_type": "display_data"
    }
   ],
   "source": [
    "# Setting up the initial configurations.\n",
    "%%configure -f\n",
    "{\n",
    "    \"conf\":{\n",
    "        \"spark.ext.h2o.announce.rest.url\": \"http://ed10-mareks.qxyas5oni4vulmjdyxf3kkjrlb.ax.internal.cloudapp.net:5000/flows\",\n",
    "        \"spark.jars\":\"/H2O-Sparkling-Water-files/sparkling-water-assembly-all.jar\",\n",
    "        \"spark.submit.pyFiles\":\"/H2O-Sparkling-Water-files/pySparkling.zip\",\n",
    "        \"spark.locality.wait\":\"3000\",\n",
    "        \"spark.scheduler.minRegisteredResourcesRatio\":\"1\",\n",
    "        \"spark.task.maxFailures\":\"1\",\n",
    "        \"spark.yarn.am.extraJavaOption\":\"-XX:MaxPermSize=384m\",\n",
    "        \"spark.yarn.max.executor.failures\":\"1\",\n",
    "        \"maximizeResourceAllocation\": \"true\"\n",
    "    },\n",
    "    \"driverMemory\":\"21G\",\n",
    "    \"executorMemory\":\"21G\",\n",
    "    \"numExecutors\":6\n",
    "}"
   ]
  },
  {
   "cell_type": "code",
   "execution_count": 2,
   "metadata": {
    "cell_status": {
     "execute_time": {
      "duration": 3289.866943359375,
      "end_time": 1574548613357.346
     }
    }
   },
   "outputs": [
    {
     "name": "stdout",
     "output_type": "stream",
     "text": [
      "Starting Spark application\n"
     ]
    },
    {
     "data": {
      "text/html": [
       "<table>\n",
       "<tr><th>ID</th><th>YARN Application ID</th><th>Kind</th><th>State</th><th>Spark UI</th><th>Driver log</th><th>Current session?</th></tr><tr><td>20</td><td>application_1574540295268_0010</td><td>pyspark</td><td>idle</td><td><a target=\"_blank\" href=\"http://hn0-bdclus.fzt4pnr50moevdj1yjt0tv2y1b.bx.internal.cloudapp.net:8088/proxy/application_1574540295268_0010/\">Link</a></td><td><a target=\"_blank\" href=\"http://wn5-bdclus.fzt4pnr50moevdj1yjt0tv2y1b.bx.internal.cloudapp.net:30060/node/containerlogs/container_e05_1574540295268_0010_01_000001/livy\">Link</a></td><td>✔</td></tr></table>"
      ],
      "text/plain": [
       "<IPython.core.display.HTML object>"
      ]
     },
     "metadata": {},
     "output_type": "display_data"
    },
    {
     "name": "stdout",
     "output_type": "stream",
     "text": [
      "SparkSession available as 'spark'.\n"
     ]
    }
   ],
   "source": [
    "#Initiate H2OContext on top of Spark\n",
    "\n",
    "import pyspark\n",
    "import os\n",
    "os.environ[\"PYTHON_EGG_CACHE\"] = \"~/\"\n",
    "sc.addPyFile(\"wasb:///H2O-Sparkling-Water-files/pySparkling.zip\") # For Azure DataLake replace wasb with adl"
   ]
  },
  {
   "cell_type": "code",
   "execution_count": 3,
   "metadata": {
    "cell_status": {
     "execute_time": {
      "duration": 35456.4169921875,
      "end_time": 1574548661082.953
     }
    }
   },
   "outputs": [
    {
     "name": "stdout",
     "output_type": "stream",
     "text": [
      "Connecting to H2O server at http://10.0.0.4:54323 ... successful.\n",
      "--------------------------  ------------------------------------------------------------------\n",
      "H2O cluster uptime:         14 secs\n",
      "H2O cluster timezone:       Etc/UTC\n",
      "H2O data parsing timezone:  UTC\n",
      "H2O cluster version:        3.26.0.5\n",
      "H2O cluster version age:    2 months and 7 days\n",
      "H2O cluster name:           sparkling-water-yarn_application_1574540295268_0010\n",
      "H2O cluster total nodes:    6\n",
      "H2O cluster free memory:    112.0 Gb\n",
      "H2O cluster total cores:    48\n",
      "H2O cluster allowed cores:  18\n",
      "H2O cluster status:         accepting new members, healthy\n",
      "H2O connection url:         http://10.0.0.4:54323\n",
      "H2O connection proxy:\n",
      "H2O internal security:      False\n",
      "H2O API Extensions:         XGBoost, Algos, Amazon S3, AutoML, Core V3, TargetEncoder, Core V4\n",
      "Python version:             2.7.12 final\n",
      "--------------------------  ------------------------------------------------------------------\n",
      "\n",
      "Sparkling Water Context:\n",
      " * Sparkling Water Version: 3.26.5-2.3\n",
      " * H2O name: sparkling-water-yarn_application_1574540295268_0010\n",
      " * cluster size: 6\n",
      " * list of used nodes:\n",
      "  (executorId, host, port)\n",
      "  ------------------------\n",
      "  (2,10.0.0.4,54321)\n",
      "  (3,10.0.0.15,54321)\n",
      "  (4,10.0.0.5,54321)\n",
      "  (1,10.0.0.12,54321)\n",
      "  (5,10.0.0.12,54323)\n",
      "  (6,10.0.0.15,54323)\n",
      "  ------------------------\n",
      "\n",
      "  Open H2O Flow in browser: http://10.0.0.4:54323 (CMD + click in Mac OSX)\n",
      "\n",
      "    \n",
      " * Yarn App ID of Spark application: application_1574540295268_0010\n",
      "    \n",
      "Method H2OContext.getOrCreate with argument of type SparkContext is deprecated and parameter of type SparkSession is preferred."
     ]
    }
   ],
   "source": [
    "import pysparkling, h2o\n",
    "\n",
    "h2o_context = pysparkling.H2OContext.getOrCreate(sc)"
   ]
  },
  {
   "cell_type": "code",
   "execution_count": 4,
   "metadata": {
    "cell_status": {
     "execute_time": {
      "duration": 7306.302001953125,
      "end_time": 1574548668401.901
     }
    }
   },
   "outputs": [
    {
     "name": "stdout",
     "output_type": "stream",
     "text": [
      "Parse progress: [#########################################################] 100%\n",
      "Parse progress: [#########################################################] 100%"
     ]
    }
   ],
   "source": [
    "# Importing the train and test datasets from the csv files stored on 'azure storage' in the created cluster.(0.01m dataset)\n",
    "from pyspark import SparkFiles\n",
    "import h2o\n",
    "\n",
    "train = h2o.import_file(\"wasb://bdclusterstore@bdclusterhdistorage1.blob.core.windows.net/csvFiles/train-0.01m.csv\")\n",
    "test = h2o.import_file(\"wasb://bdclusterstore@bdclusterhdistorage1.blob.core.windows.net/csvFiles/test.csv\")"
   ]
  },
  {
   "cell_type": "code",
   "execution_count": 5,
   "metadata": {
    "cell_status": {
     "execute_time": {
      "duration": 32.080078125,
      "end_time": 1574548668992.842
     }
    },
    "collapsed": true
   },
   "outputs": [],
   "source": [
    "# Defining response and predictor variables.\n",
    "predictor_columns = train.drop(\"dep_delayed_15min\").col_names\n",
    "response_column = \"dep_delayed_15min\""
   ]
  },
  {
   "cell_type": "code",
   "execution_count": 6,
   "metadata": {
    "cell_status": {
     "execute_time": {
      "duration": 61553.18505859375,
      "end_time": 1574548732768.9
     }
    }
   },
   "outputs": [
    {
     "name": "stdout",
     "output_type": "stream",
     "text": [
      "drf Model Build progress: [###############################################] 100%"
     ]
    }
   ],
   "source": [
    "# Model Training and Calculating the time taken for model training. \n",
    "# Parameters defined are:\n",
    "##  number_of_trees = 100\n",
    "##  max_bins        = 20\n",
    "##  max_depth       = 50\n",
    "##  distribution    = bernoulli\n",
    "\n",
    "from h2o.estimators.random_forest import H2ORandomForestEstimator\n",
    "import time\n",
    "model = H2ORandomForestEstimator( ntrees = 100,\n",
    "                                  max_depth = 20,\n",
    "                                  nbins = 50,\n",
    "                                  distribution = \"bernoulli\")\n",
    "start = time.time()\n",
    "model.train( x = predictor_columns,\n",
    "             y = response_column,\n",
    "             training_frame = train,\n",
    "             validation_frame = test)"
   ]
  },
  {
   "cell_type": "code",
   "execution_count": 7,
   "metadata": {
    "cell_status": {
     "execute_time": {
      "duration": 48.15185546875,
      "end_time": 1574548732829.176
     }
    }
   },
   "outputs": [
    {
     "name": "stdout",
     "output_type": "stream",
     "text": [
      "61.5665960312"
     ]
    }
   ],
   "source": [
    "# The total time taken for training the model.\n",
    "end = time.time()\n",
    "print(end - start)"
   ]
  },
  {
   "cell_type": "code",
   "execution_count": 8,
   "metadata": {
    "cell_status": {
     "execute_time": {
      "duration": 1269.990966796875,
      "end_time": 1574548734595.786
     }
    }
   },
   "outputs": [
    {
     "name": "stdout",
     "output_type": "stream",
     "text": [
      "\n",
      "ModelMetricsBinomial: drf\n",
      "** Reported on test data. **\n",
      "\n",
      "MSE: 0.160599759844\n",
      "RMSE: 0.400748998557\n",
      "LogLoss: 0.525527637407\n",
      "Mean Per-Class Error: 0.375927323327\n",
      "AUC: 0.668026148519\n",
      "pr_auc: 0.350947418798\n",
      "Gini: 0.336052297038\n",
      "\n",
      "Confusion Matrix (Act/Pred) for max f1 @ threshold = 0.166599702276:        N      Y      Error    Rate\n",
      "-----  -----  -----  -------  ------------------\n",
      "N      48882  29633  0.3774   (29633.0/78515.0)\n",
      "Y      8062   13423  0.3752   (8062.0/21485.0)\n",
      "Total  56944  43056  0.377    (37695.0/100000.0)\n",
      "\n",
      "Maximum Metrics: Maximum metrics at their respective thresholds\n",
      "metric                       threshold    value     idx\n",
      "---------------------------  -----------  --------  -----\n",
      "max f1                       0.1666       0.415953  287\n",
      "max f2                       0.0477143    0.586702  372\n",
      "max f0point5                 0.276819     0.375228  210\n",
      "max accuracy                 0.52         0.78591   72\n",
      "max precision                0.685        0.602564  18\n",
      "max recall                   2.79885e-06  1         399\n",
      "max specificity              0.82         0.999987  0\n",
      "max absolute_mcc             0.20658      0.210518  258\n",
      "max min_per_class_accuracy   0.17         0.622875  285\n",
      "max mean_per_class_accuracy  0.176833     0.624073  279\n",
      "max tns                      0.82         78514     0\n",
      "max fns                      0.82         21485     0\n",
      "max fps                      2.79885e-06  78515     399\n",
      "max tps                      2.79885e-06  21485     399\n",
      "max tnr                      0.82         0.999987  0\n",
      "max fnr                      0.82         1         0\n",
      "max fpr                      2.79885e-06  1         399\n",
      "max tpr                      2.79885e-06  1         399\n",
      "\n",
      "Gains/Lift Table: Avg response rate: 21.49 %, avg score: 17.42 %\n",
      "    group    cumulative_data_fraction    lower_threshold    lift      cumulative_lift    response_rate    score      cumulative_response_rate    cumulative_score    capture_rate    cumulative_capture_rate    gain      cumulative_gain\n",
      "--  -------  --------------------------  -----------------  --------  -----------------  ---------------  ---------  --------------------------  ------------------  --------------  -------------------------  --------  -----------------\n",
      "    1        0.01079                     0.56               2.42426   2.42426            0.520853         0.610335   0.520853                    0.610335            0.0261578       0.0261578                  142.426   142.426\n",
      "    2        0.02151                     0.51               2.37496   2.39969            0.510261         0.529053   0.515574                    0.569826            0.0254596       0.0516174                  137.496   139.969\n",
      "    3        0.0315                      0.48               2.10124   2.30504            0.451451         0.490346   0.495238                    0.54462             0.0209914       0.0726088                  110.124   130.504\n",
      "    4        0.04026                     0.455              1.91808   2.22084            0.4121           0.464785   0.477149                    0.527249            0.0168024       0.0894112                  91.8085   122.084\n",
      "    5        0.0536                      0.43               1.89456   2.13964            0.407046         0.439636   0.459701                    0.505444            0.0252734       0.114685                   89.4561   113.964\n",
      "    6        0.10401                     0.36               1.77276   1.96182            0.380877         0.388261   0.421498                    0.448649            0.0893647       0.204049                   77.2757   96.1824\n",
      "    7        0.15877                     0.31               1.61918   1.84365            0.347882         0.329627   0.396108                    0.407598            0.0886665       0.292716                   61.9184   84.3647\n",
      "    8        0.20013                     0.28               1.49333   1.77125            0.320841         0.290552   0.380553                    0.383409            0.061764        0.35448                    49.3327   77.1248\n",
      "    9        0.30755                     0.22               1.28861   1.60267            0.276857         0.244273   0.344334                    0.334812            0.138422        0.492902                   28.8607   60.2673\n",
      "    10       0.40316                     0.18               1.09922   1.48328            0.236168         0.194938   0.318682                    0.30164             0.105097        0.597999                   9.92216   48.3279\n",
      "    11       0.52173                     0.14               0.947212  1.36145            0.203508         0.155011   0.292508                    0.268317            0.112311        0.71031                    -5.27881  36.145\n",
      "    12       0.63001                     0.11               0.773299  1.26036            0.166143         0.120236   0.270789                    0.242866            0.0837328       0.794042                   -22.6701  26.0365\n",
      "    13       0.70644                     0.09               0.713112  1.20116            0.153212         0.0955438  0.258069                    0.226927            0.0545031       0.848545                   -28.6888  20.1157\n",
      "    14       0.82843                     0.06               0.599781  1.1126             0.128863         0.0705709  0.239043                    0.203903            0.0731673       0.921713                   -40.0219  11.2602\n",
      "    15       0.90375                     0.04               0.520315  1.06324            0.11179          0.0455294  0.228437                    0.190704            0.0391901       0.960903                   -47.9685  6.32398\n",
      "    16       1                           0                  0.406203  1                  0.0872727        0.0187693  0.21485                     0.174155            0.039097        1                          -59.3797  0"
     ]
    }
   ],
   "source": [
    "# Calculating the model performance for the test dataset.\n",
    "model.model_performance(test)"
   ]
  },
  {
   "cell_type": "code",
   "execution_count": null,
   "metadata": {
    "collapsed": true
   },
   "outputs": [],
   "source": []
  }
 ],
 "metadata": {
  "kernelspec": {
   "display_name": "PySpark",
   "language": "",
   "name": "pysparkkernel"
  },
  "language_info": {
   "codemirror_mode": {
    "name": "python",
    "version": 2
   },
   "mimetype": "text/x-python",
   "name": "pyspark",
   "pygments_lexer": "python2"
  }
 },
 "nbformat": 4,
 "nbformat_minor": 2
}
