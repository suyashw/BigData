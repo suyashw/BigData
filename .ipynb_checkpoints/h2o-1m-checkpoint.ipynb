{
 "cells": [
  {
   "cell_type": "code",
   "execution_count": 1,
   "metadata": {
    "cell_status": {
     "execute_time": {
      "duration": 20.68896484375,
      "end_time": 1574532017702.535
     }
    }
   },
   "outputs": [
    {
     "data": {
      "text/html": [
       "Current session configs: <tt>{u'numExecutors': 6, u'executorMemory': u'30G', u'kind': 'pyspark', u'conf': {u'spark.scheduler.minRegisteredResourcesRatio': u'1', u'spark.task.maxFailures': u'1', u'spark.yarn.am.extraJavaOption': u'-XX:MaxPermSize=384m', u'maximizeResourceAllocation': u'true', u'spark.yarn.max.executor.failures': u'1', u'spark.jars': u'/H2O-Sparkling-Water-files/sparkling-water-assembly-all.jar', u'spark.ext.h2o.announce.rest.url': u'http://ed10-mareks.qxyas5oni4vulmjdyxf3kkjrlb.ax.internal.cloudapp.net:5000/flows', u'spark.submit.pyFiles': u'/H2O-Sparkling-Water-files/pySparkling.zip', u'spark.locality.wait': u'3000'}, u'driverMemory': u'30G'}</tt><br>"
      ],
      "text/plain": [
       "<IPython.core.display.HTML object>"
      ]
     },
     "metadata": {},
     "output_type": "display_data"
    },
    {
     "data": {
      "text/html": [
       "No active sessions."
      ],
      "text/plain": [
       "<IPython.core.display.HTML object>"
      ]
     },
     "metadata": {},
     "output_type": "display_data"
    }
   ],
   "source": [
    "# Setting up the initial configurations.\n",
    "%%configure -f\n",
    "{\n",
    "    \"conf\":{\n",
    "        \"spark.ext.h2o.announce.rest.url\": \"http://ed10-mareks.qxyas5oni4vulmjdyxf3kkjrlb.ax.internal.cloudapp.net:5000/flows\",\n",
    "        \"spark.jars\":\"/H2O-Sparkling-Water-files/sparkling-water-assembly-all.jar\",\n",
    "        \"spark.submit.pyFiles\":\"/H2O-Sparkling-Water-files/pySparkling.zip\",\n",
    "        \"spark.locality.wait\":\"3000\",\n",
    "        \"spark.scheduler.minRegisteredResourcesRatio\":\"1\",\n",
    "        \"spark.task.maxFailures\":\"1\",\n",
    "        \"spark.yarn.am.extraJavaOption\":\"-XX:MaxPermSize=384m\",\n",
    "        \"spark.yarn.max.executor.failures\":\"1\",\n",
    "        \"maximizeResourceAllocation\": \"true\"\n",
    "    },\n",
    "    \"driverMemory\":\"41G\",\n",
    "    \"executorMemory\":\"41G\",\n",
    "    \"numExecutors\":9\n",
    "}"
   ]
  },
  {
   "cell_type": "code",
   "execution_count": 2,
   "metadata": {
    "cell_status": {
     "execute_time": {
      "duration": 3295.583984375,
      "end_time": 1574532074933.111
     }
    }
   },
   "outputs": [
    {
     "name": "stdout",
     "output_type": "stream",
     "text": [
      "Starting Spark application\n"
     ]
    },
    {
     "data": {
      "text/html": [
       "<table>\n",
       "<tr><th>ID</th><th>YARN Application ID</th><th>Kind</th><th>State</th><th>Spark UI</th><th>Driver log</th><th>Current session?</th></tr><tr><td>2</td><td>application_1574529212966_0006</td><td>pyspark</td><td>idle</td><td><a target=\"_blank\" href=\"http://hn1-bdclus.fzt4pnr50moevdj1yjt0tv2y1b.bx.internal.cloudapp.net:8088/proxy/application_1574529212966_0006/\">Link</a></td><td><a target=\"_blank\" href=\"http://wn5-bdclus.fzt4pnr50moevdj1yjt0tv2y1b.bx.internal.cloudapp.net:30060/node/containerlogs/container_1574529212966_0006_01_000001/livy\">Link</a></td><td>✔</td></tr></table>"
      ],
      "text/plain": [
       "<IPython.core.display.HTML object>"
      ]
     },
     "metadata": {},
     "output_type": "display_data"
    },
    {
     "name": "stdout",
     "output_type": "stream",
     "text": [
      "SparkSession available as 'spark'.\n"
     ]
    }
   ],
   "source": [
    "#Initiate H2OContext on top of Spark\n",
    "\n",
    "import pyspark\n",
    "import os\n",
    "os.environ[\"PYTHON_EGG_CACHE\"] = \"~/\"\n",
    "sc.addPyFile(\"wasb:///H2O-Sparkling-Water-files/pySparkling.zip\") # For Azure DataLake replace wasb with adl"
   ]
  },
  {
   "cell_type": "code",
   "execution_count": 3,
   "metadata": {
    "cell_status": {
     "execute_time": {
      "duration": 29448.802001953125,
      "end_time": 1574532104393.329
     }
    }
   },
   "outputs": [
    {
     "name": "stdout",
     "output_type": "stream",
     "text": [
      "Connecting to H2O server at http://10.0.0.4:54321 ... successful.\n",
      "--------------------------  ------------------------------------------------------------------\n",
      "H2O cluster uptime:         13 secs\n",
      "H2O cluster timezone:       Etc/UTC\n",
      "H2O data parsing timezone:  UTC\n",
      "H2O cluster version:        3.26.0.5\n",
      "H2O cluster version age:    2 months and 7 days\n",
      "H2O cluster name:           sparkling-water-yarn_application_1574529212966_0006\n",
      "H2O cluster total nodes:    3\n",
      "H2O cluster free memory:    80.0 Gb\n",
      "H2O cluster total cores:    24\n",
      "H2O cluster allowed cores:  9\n",
      "H2O cluster status:         accepting new members, healthy\n",
      "H2O connection url:         http://10.0.0.4:54321\n",
      "H2O connection proxy:\n",
      "H2O internal security:      False\n",
      "H2O API Extensions:         XGBoost, Algos, Amazon S3, AutoML, Core V3, TargetEncoder, Core V4\n",
      "Python version:             2.7.12 final\n",
      "--------------------------  ------------------------------------------------------------------\n",
      "\n",
      "Sparkling Water Context:\n",
      " * Sparkling Water Version: 3.26.5-2.3\n",
      " * H2O name: sparkling-water-yarn_application_1574529212966_0006\n",
      " * cluster size: 3\n",
      " * list of used nodes:\n",
      "  (executorId, host, port)\n",
      "  ------------------------\n",
      "  (2,10.0.0.15,54321)\n",
      "  (3,10.0.0.5,54321)\n",
      "  (1,10.0.0.12,54321)\n",
      "  ------------------------\n",
      "\n",
      "  Open H2O Flow in browser: http://10.0.0.4:54321 (CMD + click in Mac OSX)\n",
      "\n",
      "    \n",
      " * Yarn App ID of Spark application: application_1574529212966_0006\n",
      "    \n",
      "Method H2OContext.getOrCreate with argument of type SparkContext is deprecated and parameter of type SparkSession is preferred."
     ]
    }
   ],
   "source": [
    "import pysparkling, h2o\n",
    "\n",
    "h2o_context = pysparkling.H2OContext.getOrCreate(sc)"
   ]
  },
  {
   "cell_type": "code",
   "execution_count": 4,
   "metadata": {
    "cell_status": {
     "execute_time": {
      "duration": 9313.799072265625,
      "end_time": 1574532113719.099
     }
    }
   },
   "outputs": [
    {
     "name": "stdout",
     "output_type": "stream",
     "text": [
      "Parse progress: [#########################################################] 100%\n",
      "Parse progress: [#########################################################] 100%"
     ]
    }
   ],
   "source": [
    "# Importing the train and test datasets from the csv files stored on 'azure storage' in the created cluster.(1m dataset)\n",
    "from pyspark import SparkFiles\n",
    "import h2o\n",
    "\n",
    "train = h2o.import_file(\"wasb://bdclusterstore@bdclusterhdistorage1.blob.core.windows.net/csvFiles/train-1m.csv\")\n",
    "test = h2o.import_file(\"wasb://bdclusterstore@bdclusterhdistorage1.blob.core.windows.net/csvFiles/test.csv\")"
   ]
  },
  {
   "cell_type": "code",
   "execution_count": null,
   "metadata": {
    "cell_status": {
     "execute_time": {
      "duration": 37.453125,
      "end_time": 1574532113767.783
     }
    },
    "collapsed": true
   },
   "outputs": [],
   "source": [
    "# Defining response and predictor variables.\n",
    "predictor_columns = train.drop(\"dep_delayed_15min\").col_names\n",
    "response_column = \"dep_delayed_15min\""
   ]
  },
  {
   "cell_type": "code",
   "execution_count": null,
   "metadata": {
    "cell_status": {
     "execute_time": {
      "duration": 696851.4328613281,
      "end_time": 1574533767369.871
     }
    }
   },
   "outputs": [
    {
     "name": "stdout",
     "output_type": "stream",
     "text": [
      "drf Model Build progress: [###############################################] 100%\n",
      "696.191375971"
     ]
    }
   ],
   "source": [
    "# Model Training and Calculating the time taken for model training. \n",
    "# Parameters defined are:\n",
    "##  number_of_trees = 90\n",
    "##  max_bins        = 20\n",
    "##  max_depth       = 50\n",
    "##  distribution    = bernoulli\n",
    "### Note: The model crashed while running for no_of_trees = 100, hence used maximum no_of_trees =90 for this cluster configuration.\n",
    "\n",
    "from h2o.estimators.random_forest import H2ORandomForestEstimator\n",
    "import time\n",
    "model = H2ORandomForestEstimator( ntrees = 90,\n",
    "                                  max_depth = 20,\n",
    "                                  nbins = 50,\n",
    "                                  distribution = \"bernoulli\")\n",
    "\n",
    "start = time.time()\n",
    "model.train( x = predictor_columns,\n",
    "             y = response_column,\n",
    "             training_frame = train,\n",
    "             validation_frame = test)\n",
    "end = time.time()\n",
    "print(end - start)"
   ]
  },
  {
   "cell_type": "code",
   "execution_count": null,
   "metadata": {
    "cell_status": {
     "execute_time": {
      "duration": 2276.75,
      "end_time": 1574532807303.996
     }
    }
   },
   "outputs": [
    {
     "name": "stdout",
     "output_type": "stream",
     "text": [
      "\n",
      "ModelMetricsBinomial: drf\n",
      "** Reported on test data. **\n",
      "\n",
      "MSE: 0.144498427627\n",
      "RMSE: 0.380129487973\n",
      "LogLoss: 0.454764904542\n",
      "Mean Per-Class Error: 0.327592161165\n",
      "AUC: 0.742294061584\n",
      "pr_auc: 0.47528849695\n",
      "Gini: 0.484588123169\n",
      "\n",
      "Confusion Matrix (Act/Pred) for max f1 @ threshold = 0.228611101343:        N      Y      Error    Rate\n",
      "-----  -----  -----  -------  ------------------\n",
      "N      57774  20741  0.2642   (20741.0/78515.0)\n",
      "Y      8532   12953  0.3971   (8532.0/21485.0)\n",
      "Total  66306  33694  0.2927   (29273.0/100000.0)\n",
      "\n",
      "Maximum Metrics: Maximum metrics at their respective thresholds\n",
      "metric                       threshold    value     idx\n",
      "---------------------------  -----------  --------  -----\n",
      "max f1                       0.228611     0.46949   231\n",
      "max f2                       0.0992576    0.62335   325\n",
      "max f0point5                 0.373806     0.462857  149\n",
      "max accuracy                 0.485265     0.80324   100\n",
      "max precision                0.981532     1         0\n",
      "max recall                   0.000231336  1         399\n",
      "max specificity              0.981532     1         0\n",
      "max absolute_mcc             0.287838     0.30069   194\n",
      "max min_per_class_accuracy   0.199953     0.671362  250\n",
      "max mean_per_class_accuracy  0.197252     0.672408  252\n",
      "max tns                      0.981532     78515     0\n",
      "max fns                      0.981532     21483     0\n",
      "max fps                      0.000231336  78515     399\n",
      "max tps                      0.000231336  21485     399\n",
      "max tnr                      0.981532     1         0\n",
      "max fnr                      0.981532     0.999907  0\n",
      "max fpr                      0.000231336  1         399\n",
      "max tpr                      0.000231336  1         399\n",
      "\n",
      "Gains/Lift Table: Avg response rate: 21.49 %, avg score: 19.82 %\n",
      "    group    cumulative_data_fraction    lower_threshold    lift      cumulative_lift    response_rate    score      cumulative_response_rate    cumulative_score    capture_rate    cumulative_capture_rate    gain      cumulative_gain\n",
      "--  -------  --------------------------  -----------------  --------  -----------------  ---------------  ---------  --------------------------  ------------------  --------------  -------------------------  --------  -----------------\n",
      "    1        0.01                        0.706791           4.12846   4.12846            0.887            0.785007   0.887                       0.785007            0.0412846       0.0412846                  312.846   312.846\n",
      "    2        0.02                        0.628488           3.50012   3.81429            0.752            0.664443   0.8195                      0.724725            0.0350012       0.0762858                  250.012   281.429\n",
      "    3        0.03                        0.576626           3.09053   3.57304            0.664            0.600789   0.767667                    0.683413            0.0309053       0.107191                   209.053   257.304\n",
      "    4        0.04                        0.53613            2.68559   3.35118            0.577            0.555366   0.72                        0.651401            0.0268559       0.134047                   168.559   235.118\n",
      "    5        0.05                        0.504489           2.28066   3.13707            0.49             0.519343   0.674                       0.62499             0.0228066       0.156854                   128.066   213.707\n",
      "    6        0.1                         0.408613           2.11124   2.62416            0.4536           0.451281   0.5638                      0.538135            0.105562        0.262416                   111.124   162.416\n",
      "    7        0.15                        0.350975           1.73237   2.32689            0.3722           0.377699   0.499933                    0.484656            0.0866186       0.349034                   73.2371   132.689\n",
      "    8        0.2                         0.308382           1.55923   2.13498            0.335            0.328672   0.4587                      0.44566             0.0779614       0.426996                   55.9227   113.498\n",
      "    9        0.3                         0.24688            1.33535   1.86844            0.2869           0.275943   0.401433                    0.389088            0.133535        0.560531                   33.535    86.8435\n",
      "    10       0.4                         0.200264           1.09658   1.67547            0.2356           0.222628   0.359975                    0.347473            0.109658        0.670189                   9.6579    67.5471\n",
      "    11       0.5                         0.162281           0.949965  1.53037            0.2041           0.180874   0.3288                      0.314153            0.0949965       0.765185                   -5.00349  53.037\n",
      "    12       0.6                         0.128904           0.770305  1.40369            0.1655           0.145192   0.301583                    0.285993            0.0770305       0.842215                   -22.9695  40.3692\n",
      "    13       0.7                         0.0977117          0.624156  1.29233            0.1341           0.11327    0.277657                    0.261318            0.0624156       0.904631                   -37.5844  29.233\n",
      "    14       0.8                         0.0673081          0.486851  1.19165            0.1046           0.0823541  0.256025                    0.238948            0.0486851       0.953316                   -51.3149  19.1645\n",
      "    15       0.9                         0.0360784          0.322085  1.09503            0.0692           0.051993   0.235267                    0.218175            0.0322085       0.985525                   -67.7915  9.50275\n",
      "    16       1                           0                  0.144752  1                  0.0311           0.0185294  0.21485                     0.198211            0.0144752       1                          -85.5248  0"
     ]
    }
   ],
   "source": [
    "# Calculating the model performance for the test dataset.\n",
    "model.model_performance(test)"
   ]
  }
 ],
 "metadata": {
  "kernelspec": {
   "display_name": "PySpark",
   "language": "",
   "name": "pysparkkernel"
  },
  "language_info": {
   "codemirror_mode": {
    "name": "python",
    "version": 2
   },
   "mimetype": "text/x-python",
   "name": "pyspark",
   "pygments_lexer": "python2"
  }
 },
 "nbformat": 4,
 "nbformat_minor": 2
}
