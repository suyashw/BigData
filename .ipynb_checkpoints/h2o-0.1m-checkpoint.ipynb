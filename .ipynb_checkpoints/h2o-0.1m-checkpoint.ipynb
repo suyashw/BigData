{
 "cells": [
  {
   "cell_type": "code",
   "execution_count": 1,
   "metadata": {
    "cell_status": {
     "execute_time": {
      "duration": 18.432861328125,
      "end_time": 1574558238395.298
     }
    }
   },
   "outputs": [
    {
     "data": {
      "text/html": [
       "Current session configs: <tt>{u'numExecutors': 6, u'executorMemory': u'21G', u'kind': 'pyspark', u'conf': {u'spark.scheduler.minRegisteredResourcesRatio': u'1', u'spark.task.maxFailures': u'1', u'spark.yarn.am.extraJavaOption': u'-XX:MaxPermSize=384m', u'maximizeResourceAllocation': u'true', u'spark.yarn.max.executor.failures': u'1', u'spark.jars': u'/H2O-Sparkling-Water-files/sparkling-water-assembly-all.jar', u'spark.ext.h2o.announce.rest.url': u'http://ed10-mareks.qxyas5oni4vulmjdyxf3kkjrlb.ax.internal.cloudapp.net:5000/flows', u'spark.submit.pyFiles': u'/H2O-Sparkling-Water-files/pySparkling.zip', u'spark.locality.wait': u'3000'}, u'driverMemory': u'21G'}</tt><br>"
      ],
      "text/plain": [
       "<IPython.core.display.HTML object>"
      ]
     },
     "metadata": {},
     "output_type": "display_data"
    },
    {
     "data": {
      "text/html": [
       "No active sessions."
      ],
      "text/plain": [
       "<IPython.core.display.HTML object>"
      ]
     },
     "metadata": {},
     "output_type": "display_data"
    }
   ],
   "source": [
    "# Setting up the initial configurations.\n",
    "%%configure -f\n",
    "{\n",
    "    \"conf\":{\n",
    "        \"spark.ext.h2o.announce.rest.url\": \"http://ed10-mareks.qxyas5oni4vulmjdyxf3kkjrlb.ax.internal.cloudapp.net:5000/flows\",\n",
    "        \"spark.jars\":\"/H2O-Sparkling-Water-files/sparkling-water-assembly-all.jar\",\n",
    "        \"spark.submit.pyFiles\":\"/H2O-Sparkling-Water-files/pySparkling.zip\",\n",
    "        \"spark.locality.wait\":\"3000\",\n",
    "        \"spark.scheduler.minRegisteredResourcesRatio\":\"1\",\n",
    "        \"spark.task.maxFailures\":\"1\",\n",
    "        \"spark.yarn.am.extraJavaOption\":\"-XX:MaxPermSize=384m\",\n",
    "        \"spark.yarn.max.executor.failures\":\"1\",\n",
    "        \"maximizeResourceAllocation\": \"true\"\n",
    "    },\n",
    "    \"driverMemory\":\"21G\",\n",
    "    \"executorMemory\":\"21G\",\n",
    "    \"numExecutors\":6\n",
    "}"
   ]
  },
  {
   "cell_type": "code",
   "execution_count": 2,
   "metadata": {
    "cell_status": {
     "execute_time": {
      "duration": 3290.762939453125,
      "end_time": 1574558273475.627
     }
    }
   },
   "outputs": [
    {
     "name": "stdout",
     "output_type": "stream",
     "text": [
      "Starting Spark application\n"
     ]
    },
    {
     "data": {
      "text/html": [
       "<table>\n",
       "<tr><th>ID</th><th>YARN Application ID</th><th>Kind</th><th>State</th><th>Spark UI</th><th>Driver log</th><th>Current session?</th></tr><tr><td>29</td><td>application_1574552528623_0005</td><td>pyspark</td><td>idle</td><td><a target=\"_blank\" href=\"http://hn0-bdclus.fzt4pnr50moevdj1yjt0tv2y1b.bx.internal.cloudapp.net:8088/proxy/application_1574552528623_0005/\">Link</a></td><td><a target=\"_blank\" href=\"http://wn1-bdclus.fzt4pnr50moevdj1yjt0tv2y1b.bx.internal.cloudapp.net:30060/node/containerlogs/container_e10_1574552528623_0005_01_000001/livy\">Link</a></td><td>✔</td></tr></table>"
      ],
      "text/plain": [
       "<IPython.core.display.HTML object>"
      ]
     },
     "metadata": {},
     "output_type": "display_data"
    },
    {
     "name": "stdout",
     "output_type": "stream",
     "text": [
      "SparkSession available as 'spark'.\n"
     ]
    }
   ],
   "source": [
    "#Initiate H2OContext on top of Spark\n",
    "\n",
    "import pyspark\n",
    "import os\n",
    "os.environ[\"PYTHON_EGG_CACHE\"] = \"~/\"\n",
    "sc.addPyFile(\"wasb:///H2O-Sparkling-Water-files/pySparkling.zip\") # For Azure DataLake replace wasb with adl"
   ]
  },
  {
   "cell_type": "code",
   "execution_count": 3,
   "metadata": {
    "cell_status": {
     "execute_time": {
      "duration": 35435.994873046875,
      "end_time": 1574558332922.862
     }
    }
   },
   "outputs": [
    {
     "name": "stdout",
     "output_type": "stream",
     "text": [
      "Connecting to H2O server at http://10.0.0.15:54323 ... successful.\n",
      "--------------------------  ------------------------------------------------------------------\n",
      "H2O cluster uptime:         13 secs\n",
      "H2O cluster timezone:       Etc/UTC\n",
      "H2O data parsing timezone:  UTC\n",
      "H2O cluster version:        3.26.0.5\n",
      "H2O cluster version age:    2 months and 7 days\n",
      "H2O cluster name:           sparkling-water-yarn_application_1574552528623_0005\n",
      "H2O cluster total nodes:    6\n",
      "H2O cluster free memory:    112.0 Gb\n",
      "H2O cluster total cores:    48\n",
      "H2O cluster allowed cores:  18\n",
      "H2O cluster status:         accepting new members, healthy\n",
      "H2O connection url:         http://10.0.0.15:54323\n",
      "H2O connection proxy:\n",
      "H2O internal security:      False\n",
      "H2O API Extensions:         XGBoost, Algos, Amazon S3, AutoML, Core V3, TargetEncoder, Core V4\n",
      "Python version:             2.7.12 final\n",
      "--------------------------  ------------------------------------------------------------------\n",
      "\n",
      "Sparkling Water Context:\n",
      " * Sparkling Water Version: 3.26.5-2.3\n",
      " * H2O name: sparkling-water-yarn_application_1574552528623_0005\n",
      " * cluster size: 6\n",
      " * list of used nodes:\n",
      "  (executorId, host, port)\n",
      "  ------------------------\n",
      "  (6,10.0.0.12,54321)\n",
      "  (4,10.0.0.4,54321)\n",
      "  (1,10.0.0.5,54321)\n",
      "  (2,10.0.0.15,54321)\n",
      "  (5,10.0.0.5,54323)\n",
      "  (3,10.0.0.12,54323)\n",
      "  ------------------------\n",
      "\n",
      "  Open H2O Flow in browser: http://10.0.0.15:54323 (CMD + click in Mac OSX)\n",
      "\n",
      "    \n",
      " * Yarn App ID of Spark application: application_1574552528623_0005\n",
      "    \n",
      "Method H2OContext.getOrCreate with argument of type SparkContext is deprecated and parameter of type SparkSession is preferred."
     ]
    }
   ],
   "source": [
    "import pysparkling, h2o\n",
    "\n",
    "h2o_context = pysparkling.H2OContext.getOrCreate(sc)"
   ]
  },
  {
   "cell_type": "code",
   "execution_count": 4,
   "metadata": {
    "cell_status": {
     "execute_time": {
      "duration": 7299.72998046875,
      "end_time": 1574558340233.383
     }
    }
   },
   "outputs": [
    {
     "name": "stdout",
     "output_type": "stream",
     "text": [
      "Parse progress: [#########################################################] 100%\n",
      "Parse progress: [#########################################################] 100%"
     ]
    }
   ],
   "source": [
    "# Importing the train and test datasets from the csv files stored on 'azure storage' in the created cluster.(0.1m dataset)\n",
    "from pyspark import SparkFiles\n",
    "import h2o\n",
    "\n",
    "train = h2o.import_file(\"wasb://bdclusterstore@bdclusterhdistorage1.blob.core.windows.net/csvFiles/train-0.1m.csv\")\n",
    "test = h2o.import_file(\"wasb://bdclusterstore@bdclusterhdistorage1.blob.core.windows.net/csvFiles/test.csv\")"
   ]
  },
  {
   "cell_type": "code",
   "execution_count": 5,
   "metadata": {
    "cell_status": {
     "execute_time": {
      "duration": 51.80712890625,
      "end_time": 1574558392651.004
     }
    },
    "collapsed": true
   },
   "outputs": [],
   "source": [
    "# Defining response and predictor variables.\n",
    "predictor_columns = train.drop(\"dep_delayed_15min\").col_names\n",
    "response_column = \"dep_delayed_15min\""
   ]
  },
  {
   "cell_type": "code",
   "execution_count": 6,
   "metadata": {
    "cell_status": {
     "execute_time": {
      "duration": 234411.73999023438,
      "end_time": 1574558631735.046
     }
    }
   },
   "outputs": [
    {
     "name": "stdout",
     "output_type": "stream",
     "text": [
      "drf Model Build progress: [###############################################] 100%"
     ]
    }
   ],
   "source": [
    "# Model Training and Calculating the time taken for model training. \n",
    "# Parameters defined are:\n",
    "##  number_of_trees = 100\n",
    "##  max_bins        = 20\n",
    "##  max_depth       = 50\n",
    "##  distribution    = bernoulli\n",
    "\n",
    "from h2o.estimators.random_forest import H2ORandomForestEstimator\n",
    "import time\n",
    "model = H2ORandomForestEstimator( ntrees = 100,\n",
    "                                  max_depth = 20,\n",
    "                                  nbins = 50,\n",
    "                                  distribution = \"bernoulli\")\n",
    "start = time.time()\n",
    "model.train( x = predictor_columns,\n",
    "             y = response_column,\n",
    "             training_frame = train,\n",
    "             validation_frame = test)\n"
   ]
  },
  {
   "cell_type": "code",
   "execution_count": 7,
   "metadata": {
    "cell_status": {
     "execute_time": {
      "duration": 36.31103515625,
      "end_time": 1574558631781.517
     }
    }
   },
   "outputs": [
    {
     "name": "stdout",
     "output_type": "stream",
     "text": [
      "234.419556856"
     ]
    }
   ],
   "source": [
    "# The total time taken for training the model.\n",
    "end = time.time()\n",
    "print(end - start)"
   ]
  },
  {
   "cell_type": "code",
   "execution_count": 8,
   "metadata": {
    "cell_status": {
     "execute_time": {
      "duration": 2270.164794921875,
      "end_time": 1574558634111.874
     }
    }
   },
   "outputs": [
    {
     "name": "stdout",
     "output_type": "stream",
     "text": [
      "\n",
      "ModelMetricsBinomial: drf\n",
      "** Reported on test data. **\n",
      "\n",
      "MSE: 0.151781610747\n",
      "RMSE: 0.38959159481\n",
      "LogLoss: 0.486662142822\n",
      "Mean Per-Class Error: 0.34857896664\n",
      "AUC: 0.711090904292\n",
      "pr_auc: 0.418172272964\n",
      "Gini: 0.422181808584\n",
      "\n",
      "Confusion Matrix (Act/Pred) for max f1 @ threshold = 0.186182007732:        N      Y      Error    Rate\n",
      "-----  -----  -----  -------  ------------------\n",
      "N      50506  28009  0.3567   (28009.0/78515.0)\n",
      "Y      7314   14171  0.3404   (7314.0/21485.0)\n",
      "Total  57820  42180  0.3532   (35323.0/100000.0)\n",
      "\n",
      "Maximum Metrics: Maximum metrics at their respective thresholds\n",
      "metric                       threshold    value     idx\n",
      "---------------------------  -----------  --------  -----\n",
      "max f1                       0.186182     0.445174  260\n",
      "max f2                       0.0808954    0.608115  347\n",
      "max f0point5                 0.340547     0.423914  151\n",
      "max accuracy                 0.494404     0.79429   77\n",
      "max precision                0.901481     1         0\n",
      "max recall                   1.96013e-05  1         399\n",
      "max specificity              0.901481     1         0\n",
      "max absolute_mcc             0.247431     0.257922  212\n",
      "max min_per_class_accuracy   0.188948     0.649201  258\n",
      "max mean_per_class_accuracy  0.186182     0.651421  260\n",
      "max tns                      0.901481     78515     0\n",
      "max fns                      0.901481     21483     0\n",
      "max fps                      1.96013e-05  78515     399\n",
      "max tps                      1.96013e-05  21485     399\n",
      "max tnr                      0.901481     1         0\n",
      "max fnr                      0.901481     0.999907  0\n",
      "max fpr                      1.96013e-05  1         399\n",
      "max tpr                      1.96013e-05  1         399\n",
      "\n",
      "Gains/Lift Table: Avg response rate: 21.49 %, avg score: 18.76 %\n",
      "    group    cumulative_data_fraction    lower_threshold    lift      cumulative_lift    response_rate    score      cumulative_response_rate    cumulative_score    capture_rate    cumulative_capture_rate    gain      cumulative_gain\n",
      "--  -------  --------------------------  -----------------  --------  -----------------  ---------------  ---------  --------------------------  ------------------  --------------  -------------------------  --------  -----------------\n",
      "    1        0.01                        0.6142             3.44892   3.44892            0.741            0.675796   0.741                       0.675796            0.0344892       0.0344892                  244.892   244.892\n",
      "    2        0.02014                     0.555556           2.91933   3.18229            0.627219         0.582654   0.683714                    0.628902            0.029602        0.0640912                  191.933   218.229\n",
      "    3        0.03                        0.51713            2.59155   2.98813            0.556795         0.535147   0.642                       0.598088            0.0255527       0.0896439                  159.155   198.813\n",
      "    4        0.04044                     0.488889           2.46987   2.85434            0.530651         0.50189    0.613254                    0.573253            0.0257854       0.115429                   146.987   185.434\n",
      "    5        0.05                        0.464585           2.16167   2.7219             0.464435         0.475696   0.5848                      0.5546              0.0206656       0.136095                   116.167   172.19\n",
      "    6        0.10018                     0.383333           1.98494   2.35276            0.426465         0.420688   0.50549                     0.487524            0.0996044       0.235699                   98.4942   135.276\n",
      "    7        0.15                        0.332242           1.70033   2.13606            0.365315         0.356121   0.458933                    0.443881            0.0847103       0.32041                    70.0326   113.606\n",
      "    8        0.2006                      0.294444           1.5159    1.97963            0.325692         0.311971   0.425324                    0.410607            0.0767047       0.397114                   51.5903   97.9632\n",
      "    9        0.3                         0.238387           1.28863   1.75068            0.276861         0.264616   0.376133                    0.362236            0.128089        0.525204                   28.8625   75.0679\n",
      "    10       0.4                         0.194051           1.10728   1.58983            0.2379           0.215303   0.341575                    0.325502            0.110728        0.635932                   10.7284   58.983\n",
      "    11       0.5                         0.156563           0.950431  1.46195            0.2042           0.174938   0.3141                      0.29539             0.0950431       0.730975                   -4.95695  46.195\n",
      "    12       0.6                         0.12358            0.821503  1.35521            0.1765           0.140101   0.291167                    0.269508            0.0821503       0.813125                   -17.8497  35.5209\n",
      "    13       0.7                         0.0932628          0.689318  1.26008            0.1481           0.108509   0.270729                    0.246508            0.0689318       0.882057                   -31.0682  26.0082\n",
      "    14       0.80295                     0.0666667          0.528057  1.16623            0.113453         0.0789156  0.250564                    0.225021            0.0543635       0.936421                   -47.1943  16.6225\n",
      "    15       0.90022                     0.0361111          0.395244  1.08292            0.0849183        0.0508344  0.232665                    0.206199            0.0384454       0.974866                   -60.4756  8.29199\n",
      "    16       1                           0                  0.251892  1                  0.0541191        0.0201998  0.21485                     0.18764             0.0251338       1                          -74.8108  0"
     ]
    }
   ],
   "source": [
    "# Calculating the model performance for the test dataset.\n",
    "model.model_performance(test)"
   ]
  },
  {
   "cell_type": "code",
   "execution_count": null,
   "metadata": {
    "collapsed": true
   },
   "outputs": [],
   "source": []
  }
 ],
 "metadata": {
  "kernelspec": {
   "display_name": "PySpark",
   "language": "",
   "name": "pysparkkernel"
  },
  "language_info": {
   "codemirror_mode": {
    "name": "python",
    "version": 2
   },
   "mimetype": "text/x-python",
   "name": "pyspark",
   "pygments_lexer": "python2"
  }
 },
 "nbformat": 4,
 "nbformat_minor": 2
}
